{
  "nbformat": 4,
  "nbformat_minor": 0,
  "metadata": {
    "colab": {
      "provenance": []
    },
    "kernelspec": {
      "name": "python3",
      "display_name": "Python 3"
    },
    "language_info": {
      "name": "python"
    }
  },
  "cells": [
    {
      "cell_type": "markdown",
      "source": [
        "ASSIGNMENT-1"
      ],
      "metadata": {
        "id": "FOsWqHXHcHiF"
      }
    },
    {
      "cell_type": "markdown",
      "source": [
        "PYTHON BASIC QUESTIONS :\n"
      ],
      "metadata": {
        "id": "Y20PGULTbzrU"
      }
    },
    {
      "cell_type": "markdown",
      "source": [
        "1. What is Python, why is it popular ?\n",
        "\n",
        " Python is a high-level, interpreted programming language that has gained widespread recognition for its simplicity and readability. Released by Guido van Rossum in 1991, Python has evolved into a versatile, general-purpose language used in various applications, from web development to artificial intelligence.\n",
        "\n",
        " Reasons for its popularit\n",
        " - Versatility Across Domains\n",
        " - Extensive libraries & Frameworks\n",
        " - Community and support\n",
        " - Cross-platform compatability\n",
        " - Beginner-Friendly Design Philosophy\n",
        " - Open Source\n",
        " - Integration and Extensibility\n",
        " - Career opportunities\n",
        " - Rapid Development and Prototyping\n",
        " - Strong Corporate and Institutional Backing\n",
        "\n"
      ],
      "metadata": {
        "id": "L8B_AFO1cZy-"
      }
    },
    {
      "cell_type": "markdown",
      "source": [
        "2. What is interpreter in python ?\n",
        "\n",
        "   In Python, an interpreter is a program that reads and executes Python code line by line. It translates the source code into machine-readable instructions (bytecode) and runs them, allowing you to see the results immediately. Essentially, it acts as a bridge between the human-readable Python code and the computer's processor\n",
        "   "
      ],
      "metadata": {
        "id": "rWm2dU_Ge_Za"
      }
    },
    {
      "cell_type": "markdown",
      "source": [
        "3. What are pre-defined keywords in python?\n",
        "   Keywords in Python are predefined and reserved words with special meanings. They are a part of Python syntax. Python keywords can’t be used as a variable, function, or identifier name.\n",
        "\n",
        "   Rules and guidelines for Python keywords:\n",
        "\n",
        "  -  Keywords in Python are case-sensitive.\n",
        "  -  All the keywords must be in lowercase except True and False.\n",
        "  -  They may vary with Python versions.\n",
        "  - Keywords have specific meanings and predefined uses, which can’t be altered.\n",
        "  - They are a part of Python syntax and can’t be changed.\n",
        "  - They must be according to the syntax rules in Python.\n",
        "  - Keywords can’t be used as identifiers.\n",
        "\n",
        "We use a range of keywords for Python programming. If we want to see all the keywords in Python for our current version, we can use the keyword module. It gives us the full list of reserved words Python uses.\n",
        "Example:\n",
        "\n",
        "import keyword\n",
        "print(keyword.kwlist)"
      ],
      "metadata": {
        "id": "4zPKTSzmfMZz"
      }
    },
    {
      "cell_type": "markdown",
      "source": [
        "4. Can keywork be used as variable name ?\n",
        "\n",
        "   No, Python keywords cannot be used as variable names. Keywords are reserved words in Python that have predefined meanings and are used to define the syntax and structure of the language. Attempting to use a keyword as a variable name will result in a SyntaxError.\n",
        "   For example, you cannot use if, for, while, class, def, or any other Python keyword as a variable name.\n",
        "\n",
        "  This will raise a SyntaxError\n",
        "  for = 10\n",
        "   \n",
        "  print(for)\n",
        "\n",
        "  Python requires variable names to adhere to specific rules, which include not being a reserved keyword.\n"
      ],
      "metadata": {
        "id": "3aOjrIqOg-6L"
      }
    },
    {
      "cell_type": "markdown",
      "source": [
        "5. What is mutability in Python ?\n",
        "   \n",
        "   In Python, mutability refers to the ability of an object's state or value to be changed after it has been created.\n",
        "\n",
        "    Mutable Objects:\n",
        "\n",
        "    These objects can be modified in-place after their creation. This means you can add, remove, or change elements within the existing object without creating a new object in memory. Examples of mutable data types in Python include:\n",
        "\n",
        "    - Lists: You can append, insert, remove, or modify elements of a list.\n",
        "    - Dictionaries: You can add, remove, or modify key-value pairs.\n",
        "    - Sets: You can add or remove elements.\n",
        "\n",
        "   Immutable Objects:\n",
        "\n",
        "    These objects cannot be changed after they are created. Any operation that appears to modify an immutable object actually results in the creation of a new object with the desired changes, and the original object remains untouched. Examples of immutable data types in Python include:\n",
        "\n",
        "    - Numbers (integers, floats, complex numbers): When you perform an operation like x = x + 1, a new integer object is created for the new value, and x is then assigned to this new object.\n",
        "    - Strings: String methods like replace() or concatenation (+) return new strings.\n",
        "    - Tuples: Once defined, you cannot add, remove, or modify elements within a tuple.\n",
        "\n"
      ],
      "metadata": {
        "id": "JDKzNnofh14V"
      }
    },
    {
      "cell_type": "markdown",
      "source": [
        "6. Why are lists mutable but tuples are immutable ?\n",
        "\n",
        "   The core distinction between Python lists and tuples lies in their mutability: lists are mutable, allowing modification after creation, while tuples are immutable, meaning their contents cannot be changed once defined."
      ],
      "metadata": {
        "id": "_2p1xsKEi-wv"
      }
    },
    {
      "cell_type": "markdown",
      "source": [
        "7. What is the difference between \"==\" and is operator in Python ?\n",
        "  \n",
        "   In Python, the == operator and the is operator serve distinct purposes when comparing objects:\n",
        "\n",
        "    == (Equality Operator):\n",
        "\n",
        "        This operator compares the values of two objects. It checks if the content or data held by the objects are the same.\n",
        "        When you use a == b, Python calls the __eq__() method of object a (if defined) to determine if its value is equal to the value of object b.\n",
        "\n",
        "        list1 = [1, 2, 3]\n",
        "        list2 = [1, 2, 3]\n",
        "        print(list1 == list2) # Output: True (values are the same)\n",
        "\n",
        "    is (Identity Operator):\n",
        "\n",
        "        This operator compares the identity of two objects. It checks if two variables refer to the exact same object in memory.\n",
        "\n",
        "        It essentially checks if id(a) == id(b), where id() returns the unique memory address of an object.\n",
        "\n",
        "        list1 = [1, 2, 3]\n",
        "        list2 = [1, 2, 3]\n",
        "        print(list1 is list2) # Output: False (they are different objects in memory, even if values are identical)\n",
        "\n",
        "        list3 = list1 # list3 now refers to the same object as list1\n",
        "        print(list1 is list3) # Output: True (they point to the same object in memory)\n",
        "\n"
      ],
      "metadata": {
        "id": "1iMUSJzVjQqB"
      }
    },
    {
      "cell_type": "markdown",
      "source": [
        "8. What are logical operators in Python?   \n",
        "\n",
        "   Logical operators in Python are used to combine conditional statements and perform logical operations on Boolean values (True or False). They are essential for controlling program flow and making decisions based on multiple conditions.\n",
        "   There are three primary logical operators in Python:\n",
        "\n",
        "    **and (Logical AND):**\n",
        "    Returns True if both operands are True.\n",
        "\n",
        "    Returns False if either or both operands are False.\n",
        "    Example: (x > 5) and (y < 10) will be True only if x is greater than 5 and y is less than 10.\n",
        "\n",
        "    **or (Logical OR):**    Returns True if at least one of the operands is True.\n",
        "\n",
        "    Returns False only if both operands are False.\n",
        "    Example: (is_sunny) or (has_umbrella) will be True if it's sunny or if you have an umbrella (or both).\n",
        "\n",
        "    **not (Logical NOT):**\n",
        "    Returns the opposite Boolean value of the operand.\n",
        "\n",
        "    If the operand is True, not returns False.\n",
        "    If the operand is False, not returns True.\n",
        "    Example: not is_raining will be True if it is not raining."
      ],
      "metadata": {
        "id": "Qi24SgD-krg9"
      }
    },
    {
      "cell_type": "markdown",
      "source": [
        "9. What is type casting in Python ?\n",
        "\n",
        "   Type casting in Python, also known as type conversion, is the process of converting a value of one data type into another. This is a fundamental concept in programming that allows for flexible data manipulation and ensures compatibility between different data types during operations.\n",
        "   There are two main types of type casting in Python: Implicit & Explicit.\n"
      ],
      "metadata": {
        "id": "qamf8ivzliOU"
      }
    },
    {
      "cell_type": "markdown",
      "source": [
        "10. What is the difference between implicit and explicit type casting in Python?\n",
        "\n",
        "     **Implicit Type Conversion:**\n",
        "\n",
        "    This occurs automatically by the Python interpreter when compatible data types are involved in an operation. Python promotes the \"smaller\" data type to the \"larger\" data type to avoid data loss.\n",
        "\n",
        "    Example of implicit type conversion\n",
        "\n",
        "    integer_num = 10\n",
        "\n",
        "    float_num = 5.5\n",
        "\n",
        "    result = integer_num + float_num  # integer_num is implicitly converted to a float\n",
        "\n",
        "    print(result)  # Output: 15.5\n",
        "\n",
        "    print(type(result)) # Output: <class 'float'>\n",
        "\n",
        "    **Explicit Type Conversion (Type Casting):**\n",
        "    \n",
        "     This is when the programmer explicitly converts a value from one data type to another using built-in functions or constructors. This is necessary when Python cannot automatically convert types, or when you want to force a specific type conversion.\n",
        "\n",
        "    Examples of explicit type conversion\n",
        "\n",
        "    string_num = \"123\"\n",
        "\n",
        "    integer_value = int(string_num)  # Convert string to integer\n",
        "\n",
        "    print(integer_value) # Output: 123\n",
        "    \n",
        "    print(type(integer_value)) # Output: <class 'int'>"
      ],
      "metadata": {
        "id": "GGe28_lhmqK-"
      }
    },
    {
      "cell_type": "markdown",
      "source": [
        "11. What is the purpose of conditional statements in python ?\n",
        "   \n",
        "    \n",
        "  The purpose of conditional statements in Python is to control the flow of execution in a program based on whether certain conditions are met. They enable programs to make decisions and perform different actions depending on the outcome of a logical evaluation.\n",
        "\n",
        "   Key purposes include:\n",
        "\n",
        "  -  Decision Making:\n",
        "    Conditional statements, such as if, if-else, and if-elif-else, allow the program to choose which block of code to execute based on the truthiness of a condition.\n",
        "  -  Controlling Program Flow:\n",
        "    By evaluating conditions, these statements direct the program's path, ensuring that specific sections of code run only when relevant criteria are satisfied.\n",
        "  -  Handling Different Scenarios:\n",
        "    They enable programs to respond dynamically to varying inputs or situations, leading to more flexible and robust applications.\n",
        "  - Implementing Logic:\n",
        "    Conditional statements are fundamental for implementing complex logical structures and algorithms, allowing for diverse behaviors within a single program"
      ],
      "metadata": {
        "id": "GNK6l_PDnZZb"
      }
    },
    {
      "cell_type": "markdown",
      "source": [
        "12. How does the elif statement work ?\n",
        "\n",
        "    \n",
        "  In Python, the elif statement, short for \"else if,\" is used to check for multiple conditions sequentially after an initial if statement. It allows for a chain of conditional checks, where only one block of code will be executed.\n",
        "  Here's how it works:\n",
        "\n",
        "  1.  if statement evaluation:\n",
        "  \n",
        "    Python first evaluates the condition of the if statement.\n",
        "        If the if condition is True, the code block associated with the if statement is executed, and the entire if-elif-else block is exited.\n",
        "  2.  elif statement evaluation (if if is False):\n",
        "\n",
        "    If the if condition is False, Python proceeds to the first elif statement and evaluates its condition.\n",
        "        If the elif condition is True, the code block associated with that elif statement is executed, and the entire if-elif-else block is exited.\n",
        "        If the elif condition is False, Python moves to the next elif statement (if present) and repeats the evaluation process.\n",
        "  3.  else statement execution (if all preceding conditions are False):\n",
        "  \n",
        "    If all if and elif conditions in the chain evaluate to False, the code block associated with the else statement (if present) is executed"
      ],
      "metadata": {
        "id": "gX_jzxGfn7OT"
      }
    },
    {
      "cell_type": "markdown",
      "source": [
        "13. What is the difference between for and while loop ?\n",
        "\n",
        "    \n",
        "    **for loop:**\n",
        "\n",
        "    Purpose:\n",
        "    Designed for iterating over a sequence (like a list, tuple, string, dictionary, or range) or any other iterable object.\n",
        "\n",
        "    Known Iterations:\n",
        "    Used when the number of iterations is known in advance or can be determined by the length of the iterable.\n",
        "\n",
        "    Automatic Iteration:\n",
        "    Automatically handles the iteration process, moving to the next item in the sequence with each loop\n",
        "\n",
        "    Example\n",
        "    for item in [1, 2, 3]:\n",
        "    print(item)\n",
        "\n",
        "    **while loop:**\n",
        "\n",
        "    Purpose:\n",
        "    Designed for repeating a block of code as long as a specified condition remains True.\n",
        "\n",
        "    Unknown Iterations:\n",
        "    Used when the number of iterations is not known in advance and depends on a dynamic condition.\n",
        "\n",
        "    Manual Control:\n",
        "    Requires manual management of the loop variable or condition to ensure the loop eventually terminates (to avoid infinite loops).\n",
        "\n",
        "    Example\n",
        "    count = 0\n",
        "    while count < 3:\n",
        "    print(count)\n",
        "    count += 1\n",
        "    "
      ],
      "metadata": {
        "id": "feoFxqdrokL4"
      }
    },
    {
      "cell_type": "markdown",
      "source": [
        "15. Describe a scenario where a while loop is more suitable than a for loop.\n",
        "\n",
        "    A scenario where a while loop is more suitable than a for loop in Python is when the number of iterations is not known in advance and depends on a dynamic condition that changes during the loop's execution.\n",
        "   \n",
        "    Example Scenario: Input Validation\n",
        "    Imagine you are writing a program that requires the user to enter a positive integer. You want to keep prompting the user for input until a valid positive integer is provided\n",
        "\n",
        "    while True:\n",
        "    try:\n",
        "        user_input = int(input(\"Please enter a positive integer: \"))\n",
        "        if user_input > 0:\n",
        "            print(f\"You entered: {user_input}\")\n",
        "            break  # Exit the loop if input is valid\n",
        "        else:\n",
        "            print(\"Invalid input. Please enter a positive number.\")\n",
        "    except ValueError:\n",
        "        print(\"Invalid input. Please enter an integer.\""
      ],
      "metadata": {
        "id": "-j7AGRCnpinz"
      }
    },
    {
      "cell_type": "markdown",
      "source": [
        "**PRACTICAL QUESTIONS**"
      ],
      "metadata": {
        "id": "bzA4Q0vMqesi"
      }
    },
    {
      "cell_type": "code",
      "source": [
        "\"\"\"1. Write a python code to print Hello, World.\"\"\"\n",
        "\n",
        "print(\"Hello, World\")"
      ],
      "metadata": {
        "colab": {
          "base_uri": "https://localhost:8080/"
        },
        "id": "6Om5lG7TqnMS",
        "outputId": "658f067b-5bc2-409e-ba04-c887edc90304"
      },
      "execution_count": null,
      "outputs": [
        {
          "output_type": "stream",
          "name": "stdout",
          "text": [
            "Hello, World\n"
          ]
        }
      ]
    },
    {
      "cell_type": "code",
      "source": [
        "\"\"\"2.Write a python program to display your name and age\"\"\"\n",
        "\n",
        "name = \"Divya\"\n",
        "age = 28\n",
        "\n",
        "print(f\"My name is {name} and age is {age}\")\n"
      ],
      "metadata": {
        "colab": {
          "base_uri": "https://localhost:8080/"
        },
        "id": "ZhZrzujLr1hq",
        "outputId": "addd659b-5046-4090-e726-44289bf3b4ae"
      },
      "execution_count": null,
      "outputs": [
        {
          "output_type": "stream",
          "name": "stdout",
          "text": [
            "My name is Divya and age is 28\n"
          ]
        }
      ]
    },
    {
      "cell_type": "code",
      "source": [
        "\"\"\"3.Write a code to print all the pre defined keywords in Python using the keyword library\"\"\"\n",
        "\n",
        "import keyword\n",
        "print(keyword.kwlist)"
      ],
      "metadata": {
        "colab": {
          "base_uri": "https://localhost:8080/"
        },
        "id": "I3iOptcZsYEv",
        "outputId": "4a251405-4fb9-4337-ee43-cfa3761996cd"
      },
      "execution_count": null,
      "outputs": [
        {
          "output_type": "stream",
          "name": "stdout",
          "text": [
            "['False', 'None', 'True', 'and', 'as', 'assert', 'async', 'await', 'break', 'class', 'continue', 'def', 'del', 'elif', 'else', 'except', 'finally', 'for', 'from', 'global', 'if', 'import', 'in', 'is', 'lambda', 'nonlocal', 'not', 'or', 'pass', 'raise', 'return', 'try', 'while', 'with', 'yield']\n"
          ]
        }
      ]
    },
    {
      "cell_type": "code",
      "source": [
        "\"\"\"4.Write a program that check whether given word is a python keyword\"\"\"\n",
        "\n",
        "s=input(\"Enter a word:\")\n",
        "if keyword.iskeyword(s):\n",
        "  print(f\"'{s}' is a Python keyword.\")\n",
        "else:\n",
        "  print(f\"'{s}' is not a Python keyword.\")\n",
        "\n"
      ],
      "metadata": {
        "colab": {
          "base_uri": "https://localhost:8080/"
        },
        "id": "C0Y8T0I_stu6",
        "outputId": "48c9a236-285a-4db3-8640-cd7131950f4d"
      },
      "execution_count": null,
      "outputs": [
        {
          "output_type": "stream",
          "name": "stdout",
          "text": [
            "Enter a word:for\n",
            "'for' is a Python keyword.\n"
          ]
        }
      ]
    },
    {
      "cell_type": "code",
      "source": [
        "\"\"\"5.Create a list and tuple in Python, and demonstrate how attempting to change an element works differently for each\"\"\"\n",
        "\n",
        "\"\"\"Changing element in List\"\"\"\n",
        "\n",
        "Numbers = [1,2,3,4,5]\n",
        "\n",
        "type(Numbers)\n"
      ],
      "metadata": {
        "colab": {
          "base_uri": "https://localhost:8080/"
        },
        "id": "g9ctNMfqt0Ne",
        "outputId": "25e85e3a-b654-48ee-d9ab-e1f288d048e7"
      },
      "execution_count": null,
      "outputs": [
        {
          "output_type": "execute_result",
          "data": {
            "text/plain": [
              "list"
            ]
          },
          "metadata": {},
          "execution_count": 21
        }
      ]
    },
    {
      "cell_type": "code",
      "source": [
        "Numbers[1]=300\n",
        "Numbers"
      ],
      "metadata": {
        "colab": {
          "base_uri": "https://localhost:8080/"
        },
        "id": "bSnKbf3TuqOA",
        "outputId": "ae927cc1-c0f1-4a96-d3d6-ae9388cc1720"
      },
      "execution_count": null,
      "outputs": [
        {
          "output_type": "execute_result",
          "data": {
            "text/plain": [
              "[1, 300, 3, 4, 5]"
            ]
          },
          "metadata": {},
          "execution_count": 23
        }
      ]
    },
    {
      "cell_type": "code",
      "source": [
        "\"\"\"Changing element in Tuple\"\"\"\n",
        "\n",
        "Tuple = (1,2,3,4,5)\n",
        "type(Tuple)"
      ],
      "metadata": {
        "colab": {
          "base_uri": "https://localhost:8080/"
        },
        "id": "qVRV05s6vDUk",
        "outputId": "114be93f-fd0a-4a47-829e-13a9f002a6ae"
      },
      "execution_count": null,
      "outputs": [
        {
          "output_type": "execute_result",
          "data": {
            "text/plain": [
              "tuple"
            ]
          },
          "metadata": {},
          "execution_count": 26
        }
      ]
    },
    {
      "cell_type": "code",
      "source": [
        "Tuple[2]=200"
      ],
      "metadata": {
        "colab": {
          "base_uri": "https://localhost:8080/",
          "height": 144
        },
        "id": "CcBvJE2UvfNJ",
        "outputId": "51b05d9b-da1d-477e-91c2-afbb92b4d664"
      },
      "execution_count": null,
      "outputs": [
        {
          "output_type": "error",
          "ename": "TypeError",
          "evalue": "'tuple' object does not support item assignment",
          "traceback": [
            "\u001b[0;31m---------------------------------------------------------------------------\u001b[0m",
            "\u001b[0;31mTypeError\u001b[0m                                 Traceback (most recent call last)",
            "\u001b[0;32m/tmp/ipython-input-27-497551333.py\u001b[0m in \u001b[0;36m<cell line: 0>\u001b[0;34m()\u001b[0m\n\u001b[0;32m----> 1\u001b[0;31m \u001b[0mTuple\u001b[0m\u001b[0;34m[\u001b[0m\u001b[0;36m2\u001b[0m\u001b[0;34m]\u001b[0m\u001b[0;34m=\u001b[0m\u001b[0;36m200\u001b[0m\u001b[0;34m\u001b[0m\u001b[0;34m\u001b[0m\u001b[0m\n\u001b[0m",
            "\u001b[0;31mTypeError\u001b[0m: 'tuple' object does not support item assignment"
          ]
        }
      ]
    },
    {
      "cell_type": "code",
      "source": [
        "\"\"\"6.Write a function to demonstrate the behavior of mutable and immutable arguments\"\"\"\n",
        "\"\"\"Mutable\"\"\"\n",
        "\n",
        "List=[\"apple\",\"banana\",\"mango\"]\n",
        "List[0]=\"cherry\"\n",
        "\n",
        "List"
      ],
      "metadata": {
        "colab": {
          "base_uri": "https://localhost:8080/"
        },
        "id": "c616WnXvvpl6",
        "outputId": "f78d965d-b467-4a83-ba82-8ea2666a97c6"
      },
      "execution_count": null,
      "outputs": [
        {
          "output_type": "execute_result",
          "data": {
            "text/plain": [
              "['cherry', 'banana', 'mango']"
            ]
          },
          "metadata": {},
          "execution_count": 35
        }
      ]
    },
    {
      "cell_type": "code",
      "source": [
        "\"\"\"Immutable\"\"\"\n",
        "\n",
        "String=\"My name is Divya\"\n",
        "String[5]=\"o\""
      ],
      "metadata": {
        "colab": {
          "base_uri": "https://localhost:8080/",
          "height": 180
        },
        "id": "weYzL2uhxGuE",
        "outputId": "962fcd4e-4a7f-4398-c04a-b00e3321dea0"
      },
      "execution_count": null,
      "outputs": [
        {
          "output_type": "error",
          "ename": "TypeError",
          "evalue": "'str' object does not support item assignment",
          "traceback": [
            "\u001b[0;31m---------------------------------------------------------------------------\u001b[0m",
            "\u001b[0;31mTypeError\u001b[0m                                 Traceback (most recent call last)",
            "\u001b[0;32m/tmp/ipython-input-36-1515324380.py\u001b[0m in \u001b[0;36m<cell line: 0>\u001b[0;34m()\u001b[0m\n\u001b[1;32m      2\u001b[0m \u001b[0;34m\u001b[0m\u001b[0m\n\u001b[1;32m      3\u001b[0m \u001b[0mString\u001b[0m\u001b[0;34m=\u001b[0m\u001b[0;34m\"My name is Divya\"\u001b[0m\u001b[0;34m\u001b[0m\u001b[0;34m\u001b[0m\u001b[0m\n\u001b[0;32m----> 4\u001b[0;31m \u001b[0mString\u001b[0m\u001b[0;34m[\u001b[0m\u001b[0;36m5\u001b[0m\u001b[0;34m]\u001b[0m\u001b[0;34m=\u001b[0m\u001b[0;34m\"o\"\u001b[0m\u001b[0;34m\u001b[0m\u001b[0;34m\u001b[0m\u001b[0m\n\u001b[0m",
            "\u001b[0;31mTypeError\u001b[0m: 'str' object does not support item assignment"
          ]
        }
      ]
    },
    {
      "cell_type": "code",
      "source": [
        "\"\"\"7.Write a program that performs basic arithmetic operations on 2 user input numbers\"\"\"\n",
        "\n",
        "num1 = int(input(\"Enter first number: \"))\n",
        "num2 = int(input(\"Enter second number: \"))\n",
        "\n",
        "operation = input(\"Enter the arithmetic operation to perform (+,-,*,/) :\")\n",
        "\n",
        "if operation ==\"+\":\n",
        "  print(\"output =\",num1+num2)\n",
        "elif operation ==\"-\":\n",
        "  print(\"output =\",num1-num2)\n",
        "elif operation ==\"*\":\n",
        "  print(\"output =\",num1*num2)\n",
        "elif operation ==\"/\":\n",
        "  print(\"output =\",num1/num2)\n",
        "else:\n",
        " print(\"Invalid operation\")"
      ],
      "metadata": {
        "colab": {
          "base_uri": "https://localhost:8080/"
        },
        "id": "LrjQrNf2xW2z",
        "outputId": "2ebd4357-f9ad-42f4-8adb-e62e210d3dfa"
      },
      "execution_count": null,
      "outputs": [
        {
          "output_type": "stream",
          "name": "stdout",
          "text": [
            "Enter first number: 5\n",
            "Enter second number: 7\n",
            "Enterr the arithmetic operation to perform (+,-,*,/) :/\n",
            "output = 0.7142857142857143\n"
          ]
        }
      ]
    },
    {
      "cell_type": "code",
      "source": [
        "\"\"\"8.Write a program to demonstrate the usre of logical operators\"\"\"\n",
        "\n",
        "a=True\n",
        "b=False\n",
        "\n",
        "a and b"
      ],
      "metadata": {
        "colab": {
          "base_uri": "https://localhost:8080/"
        },
        "id": "ZCy64yLmz6EZ",
        "outputId": "8c49fce8-1212-48d6-cb21-57ead713d2b9"
      },
      "execution_count": null,
      "outputs": [
        {
          "output_type": "execute_result",
          "data": {
            "text/plain": [
              "False"
            ]
          },
          "metadata": {},
          "execution_count": 51
        }
      ]
    },
    {
      "cell_type": "code",
      "source": [
        "a or b"
      ],
      "metadata": {
        "colab": {
          "base_uri": "https://localhost:8080/"
        },
        "id": "sP3l5Yfw0TEN",
        "outputId": "e0f63dd8-4007-4e55-b5c5-bd53276d4af2"
      },
      "execution_count": null,
      "outputs": [
        {
          "output_type": "execute_result",
          "data": {
            "text/plain": [
              "True"
            ]
          },
          "metadata": {},
          "execution_count": 52
        }
      ]
    },
    {
      "cell_type": "code",
      "source": [
        "\"\"\"9.Write a python program to convert user input from string to integer, float  and Boolean type\"\"\"\n",
        "\n",
        "\"\"\"String to Integer\"\"\"\n",
        "\n",
        "name_string=input(\"Enter your name :\")\n",
        "name_string"
      ],
      "metadata": {
        "colab": {
          "base_uri": "https://localhost:8080/",
          "height": 53
        },
        "id": "UqV2QOrg0e7v",
        "outputId": "d1371708-595c-44fc-b581-76546e5609d3"
      },
      "execution_count": null,
      "outputs": [
        {
          "name": "stdout",
          "output_type": "stream",
          "text": [
            "Enter your name :456\n"
          ]
        },
        {
          "output_type": "execute_result",
          "data": {
            "text/plain": [
              "'456'"
            ],
            "application/vnd.google.colaboratory.intrinsic+json": {
              "type": "string"
            }
          },
          "metadata": {},
          "execution_count": 58
        }
      ]
    },
    {
      "cell_type": "code",
      "source": [
        "name_int=int(name_string)\n",
        "name_int"
      ],
      "metadata": {
        "colab": {
          "base_uri": "https://localhost:8080/"
        },
        "id": "UFSM3bJR2dc7",
        "outputId": "5d5c9352-93be-4aea-8cf0-d0a91e6efc18"
      },
      "execution_count": null,
      "outputs": [
        {
          "output_type": "execute_result",
          "data": {
            "text/plain": [
              "456"
            ]
          },
          "metadata": {},
          "execution_count": 60
        }
      ]
    },
    {
      "cell_type": "code",
      "source": [
        "\"\"\"String to float\"\"\"\n",
        "name_float=float(name_string)\n",
        "name_float"
      ],
      "metadata": {
        "colab": {
          "base_uri": "https://localhost:8080/"
        },
        "id": "VHs48gbw2u5b",
        "outputId": "3eb01a3c-c638-463e-eacc-edbc84c95dae"
      },
      "execution_count": null,
      "outputs": [
        {
          "output_type": "execute_result",
          "data": {
            "text/plain": [
              "456.0"
            ]
          },
          "metadata": {},
          "execution_count": 61
        }
      ]
    },
    {
      "cell_type": "code",
      "source": [
        "\"\"\"String to Boolean\"\"\"\n",
        "name_boolean=bool(name_string)\n",
        "name_boolean"
      ],
      "metadata": {
        "colab": {
          "base_uri": "https://localhost:8080/"
        },
        "id": "Z6Fa6Ees2-q2",
        "outputId": "78c73ffa-f1e5-438a-caa0-69538212334d"
      },
      "execution_count": null,
      "outputs": [
        {
          "output_type": "execute_result",
          "data": {
            "text/plain": [
              "True"
            ]
          },
          "metadata": {},
          "execution_count": 62
        }
      ]
    },
    {
      "cell_type": "code",
      "source": [
        "\"\"\"10.Write code to demonstrate type casting with list elements\"\"\"\n",
        "a = [1,2,3,4,5]\n",
        "\n",
        "x=[str(x) for x in a]\n",
        "print(x)\n"
      ],
      "metadata": {
        "colab": {
          "base_uri": "https://localhost:8080/"
        },
        "id": "8reqU2lNZuK2",
        "outputId": "6bc6d81d-c59e-4d75-8063-69e6d62550e2"
      },
      "execution_count": 1,
      "outputs": [
        {
          "output_type": "stream",
          "name": "stdout",
          "text": [
            "['1', '2', '3', '4', '5']\n"
          ]
        }
      ]
    },
    {
      "cell_type": "code",
      "source": [
        "\"\"\"11.Write a program to check whether a number is positive, negative or zero\"\"\"\n",
        "\n",
        "num = int(input(\"Enter the number : \"))\n",
        "\n",
        "if num==0:\n",
        "  print(\"The number is zero\")\n",
        "elif num>0:\n",
        "  print(\"The number is positive\")\n",
        "else:\n",
        "  print(\"The number is negative\")"
      ],
      "metadata": {
        "colab": {
          "base_uri": "https://localhost:8080/"
        },
        "id": "e4cAs6Z7auTs",
        "outputId": "98460b12-48b5-4a7e-b056-3f7cd6a8145d"
      },
      "execution_count": 6,
      "outputs": [
        {
          "output_type": "stream",
          "name": "stdout",
          "text": [
            "Enter the number : 7\n",
            "The number is positive\n"
          ]
        }
      ]
    },
    {
      "cell_type": "code",
      "source": [
        "\"\"\"12.Write a for loop to print numbers from 1 to 10\"\"\"\n",
        "\n",
        "a=[1,2,3,4,5,6,7,8,9,10]\n",
        "\n",
        "for i in a:\n",
        "  print(i)"
      ],
      "metadata": {
        "colab": {
          "base_uri": "https://localhost:8080/"
        },
        "id": "9DuTX7cebqx_",
        "outputId": "cb303ddb-017c-42a9-9f70-ca98acd29f88"
      },
      "execution_count": 7,
      "outputs": [
        {
          "output_type": "stream",
          "name": "stdout",
          "text": [
            "1\n",
            "2\n",
            "3\n",
            "4\n",
            "5\n",
            "6\n",
            "7\n",
            "8\n",
            "9\n",
            "10\n"
          ]
        }
      ]
    },
    {
      "cell_type": "code",
      "source": [
        "\"\"\"13.Write a python program to find the sum of all even numbers from 1 and 50\"\"\"\n",
        "\n",
        "sum = 0\n",
        "\n",
        "for i in range(1,51):\n",
        "  if i%2==0:\n",
        "    sum=sum+i\n",
        "print(\"Sum of all even numbers between 1 and 50 is :\",sum)\n"
      ],
      "metadata": {
        "colab": {
          "base_uri": "https://localhost:8080/"
        },
        "id": "k52aacr6b8qj",
        "outputId": "70aa737f-ed35-465b-d4f8-3aa4036d603d"
      },
      "execution_count": 10,
      "outputs": [
        {
          "output_type": "stream",
          "name": "stdout",
          "text": [
            "Sum of all even numbers between 1 and 50 is : 650\n"
          ]
        }
      ]
    },
    {
      "cell_type": "code",
      "source": [
        "\"\"\"14.Write a program to reverse a string using while loop\"\"\"\n",
        "\n",
        "name= str((input(\"Enter the name: \")))\n",
        "i = len(name) - 1\n",
        "\n",
        "while i >= 0:\n",
        "    print(name[i], end = '')\n",
        "    i = i - 1"
      ],
      "metadata": {
        "colab": {
          "base_uri": "https://localhost:8080/"
        },
        "id": "ZrEpb8LNdG7F",
        "outputId": "97f36c32-b287-4ad8-ddc0-fda408e986ef"
      },
      "execution_count": 16,
      "outputs": [
        {
          "output_type": "stream",
          "name": "stdout",
          "text": [
            "Enter the name: apple\n",
            "elppa"
          ]
        }
      ]
    },
    {
      "cell_type": "code",
      "source": [
        "\"\"\"15.Write a python program to calculate factorial of a number provided by user using while loop\"\"\"\n",
        "\n",
        "factorial=1\n",
        "n=1\n",
        "while True:\n",
        "    num=int(input(\"Enter number: \"))\n",
        "    if num<=0:\n",
        "        print(\"Thank you!\")\n",
        "        break\n",
        "    while n<num:\n",
        "        n+=1\n",
        "        factorial*=n\n",
        "    print(factorial)"
      ],
      "metadata": {
        "colab": {
          "base_uri": "https://localhost:8080/"
        },
        "id": "HiiD8OHoe9FY",
        "outputId": "9421041b-475b-4b1e-b14d-456507243360"
      },
      "execution_count": 18,
      "outputs": [
        {
          "output_type": "stream",
          "name": "stdout",
          "text": [
            "Enter number: 5\n",
            "120\n",
            "Enter number: 0\n",
            "Thank you!\n"
          ]
        }
      ]
    },
    {
      "cell_type": "code",
      "source": [],
      "metadata": {
        "id": "nPZHvNjDbQ9V"
      },
      "execution_count": null,
      "outputs": []
    }
  ]
}